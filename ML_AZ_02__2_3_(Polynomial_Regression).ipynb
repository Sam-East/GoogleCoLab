{
  "nbformat": 4,
  "nbformat_minor": 0,
  "metadata": {
    "colab": {
      "name": "ML_AZ_02 _2.3 (Polynomial Regression).ipynb",
      "provenance": [],
      "collapsed_sections": [],
      "authorship_tag": "ABX9TyN8h1iCQaluFK16XrJMl9WC",
      "include_colab_link": true
    },
    "kernelspec": {
      "name": "python3",
      "display_name": "Python 3"
    }
  },
  "cells": [
    {
      "cell_type": "markdown",
      "metadata": {
        "id": "view-in-github",
        "colab_type": "text"
      },
      "source": [
        "<a href=\"https://colab.research.google.com/github/Sam-East/GoogleCoLab/blob/master/ML_AZ_02__2_3_(Polynomial_Regression).ipynb\" target=\"_parent\"><img src=\"https://colab.research.google.com/assets/colab-badge.svg\" alt=\"Open In Colab\"/></a>"
      ]
    },
    {
      "cell_type": "markdown",
      "metadata": {
        "id": "9Wg67iTA1s5e",
        "colab_type": "text"
      },
      "source": [
        "#Lectures 2.3 ~ Folder 06 ~ Polynomial Regression:\n",
        "\n",
        "**Data Pre-Processing Section:**"
      ]
    },
    {
      "cell_type": "code",
      "metadata": {
        "id": "O10bY8iY1hX-",
        "colab_type": "code",
        "colab": {}
      },
      "source": [
        "#IMPORTING THE LIBRARIES\n",
        "%matplotlib inline\n",
        "import matplotlib.pyplot as plt\n",
        "import numpy as np\n",
        "import pandas as pd\n",
        "\n",
        "#IMPORTING THE DATA SET\n",
        "#Data file From GitHub\n",
        "url = 'https://raw.githubusercontent.com/Sam-East/DataFiles/master/Position_SalariesPR.csv' #Done\n",
        "dataset = pd.read_csv(url)\n",
        "\n",
        "#print(dataset, \" \\n \\n\")\n",
        "\n",
        "'''\n",
        "#Data file from computer upload\n",
        "from google.colab import files\n",
        "uploaded = files.upload()\n",
        "import io\n",
        "dataset = pd.read_csv(io.BytesIO(uploaded['Data.csv']))\n",
        "'''\n",
        "\n",
        "X = dataset.iloc[:,1:2].values #(independent values)\n",
        "Y = dataset.iloc[:,2].values #(dependent values)\n",
        "\n",
        "'''\n",
        "#SPLITTING THE DATA SET \n",
        "from sklearn.model_selection import train_test_split\n",
        "X_train, X_test, Y_train, Y_test = train_test_split(X, Y, test_size = 0.2, random_state = 0)\n",
        "\n",
        "#FEATURE SCALING\n",
        "from sklearn.preprocessing import StandardScaler\n",
        "sc_X = StandardScaler()\n",
        "#When we fit_transform the X_train the same fitting happens on the test but we need to apply transformation to it sepratly\n",
        "X_train = sc_X.fit_transform(X_train)\n",
        "X_test =  sc_X.transform(X_test) \n",
        "'''"
      ],
      "execution_count": 0,
      "outputs": []
    },
    {
      "cell_type": "markdown",
      "metadata": {
        "id": "E_Gso4vzRoi1",
        "colab_type": "text"
      },
      "source": [
        "**Polynomial Regression**\n",
        "\n",
        "**Defination:**  Polynomial regression is a form of regression analysis in which the relationship between the independent variable x and the dependent variable y is modelled as an nth degree polynomial in x.\n",
        "\n",
        "**y = b0 + b1*(x1)^1 + b2*(x1)^2 +......+ bn*(x1)^n**\n",
        "\n",
        "- **x1,x2....,xn** are the independent variable.\n",
        "\n",
        "- **y** is the dependent variable.\n",
        "\n",
        "- **b0** is a constant, where line touches the y-axis.\n",
        "\n",
        "- **b1,b2,.....,bn** are coefficients of the slops of lines. \n",
        "\n",
        "\n",
        "The Regression hence is not a straight line but a polynomail curve.\n",
        "\n",
        "![alt text](https://miro.medium.com/max/800/1*xz_haBuJRSI2DaveNk-3gw.gif)\n",
        "![alt text](https://miro.medium.com/max/800/1*Cat1swI8xmNYui6w5AYp8A.gif)\n",
        "\n",
        "\n",
        "**Link** (https://towardsdatascience.com/introduction-to-linear-regression-and-polynomial-regression-f8adc96f31cb)\n",
        "\n",
        "\n",
        "\n",
        "**Fitting the Polynomial Regression**\n",
        "So before fitting polynomial regression we willaslo fit Linear Regression for comparison of the two.\n"
      ]
    },
    {
      "cell_type": "code",
      "metadata": {
        "id": "OUiCjGHjSKUm",
        "colab_type": "code",
        "colab": {}
      },
      "source": [
        "#Fitting Linear Regression\n",
        "from sklearn.linear_model import LinearRegression\n",
        "lin_Reg = LinearRegression()\n",
        "lin_Reg.fit(X,Y)\n",
        "\n",
        "#Fitting polynomial Regression\n",
        "#Frist we convert out datset features to polynomial features\n",
        "from sklearn.preprocessing import PolynomialFeatures\n",
        "#The more we increase degree here the better line will fit the points\n",
        "poly_Reg = PolynomialFeatures(degree = 4)\n",
        "X_poly = poly_Reg.fit_transform(X)\n",
        "#Now we will apply Linear regression \n",
        "\n",
        "lin_Reg_2 = LinearRegression()\n",
        "lin_Reg_2.fit(X_poly, Y)\n",
        "\n",
        "\n",
        "#Visualizing the Linear Regression\n",
        "plt.scatter(X,Y,color='red')\n",
        "plt.plot(X,lin_Reg.predict(X),color='blue')\n",
        "plt.title(\"Linear Regression Model\")\n",
        "plt.xlabel('Position Level')\n",
        "plt.ylabel('Salary')\n",
        "plt.show()\n",
        "  \n",
        "#Visualizing the Polynomial Regression\n",
        "plt.scatter(X,Y,color='red')\n",
        "plt.plot(X,lin_Reg_2.predict(poly_Reg.fit_transform(X)),color='blue')\n",
        "plt.title(\"Linear Regression Model\")\n",
        "plt.xlabel('Position Level')\n",
        "plt.ylabel('Salary')\n",
        "plt.show()\n"
      ],
      "execution_count": 0,
      "outputs": []
    },
    {
      "cell_type": "markdown",
      "metadata": {
        "id": "wcGIMom4je6F",
        "colab_type": "text"
      },
      "source": [
        "**Predicting a new Value (Testing out Model)**"
      ]
    },
    {
      "cell_type": "code",
      "metadata": {
        "id": "OxzRrSEyjlmj",
        "colab_type": "code",
        "colab": {}
      },
      "source": [
        "#So We are going to predict the salary of a new possiable empolyee who said his previous salary at a company was 16k\n",
        "#The HR has said that this employee seem to be around the level 6.5  \n",
        "\n",
        "#Predicting a new Value with Linear Regression\n",
        "print(lin_Reg.predict([[6.5]]))\n",
        "#Predicting a new Value with Polynomial Regression\n",
        "print(lin_Reg_2.predict(poly_Reg.fit_transform([[6.5]])))\n",
        "\n",
        "#So,the prediction made by Linear Regression=[330378.78787879] and Polynomial Regression= [158862.45265155]\n",
        "#Hence Polynomial Regression gave better result."
      ],
      "execution_count": 0,
      "outputs": []
    }
  ]
}
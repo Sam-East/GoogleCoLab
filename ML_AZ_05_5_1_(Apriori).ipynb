{
  "nbformat": 4,
  "nbformat_minor": 0,
  "metadata": {
    "colab": {
      "name": "ML_AZ_05_5.1 (Apriori).ipynb",
      "provenance": [],
      "collapsed_sections": [],
      "authorship_tag": "ABX9TyMgpGcaRgNZXw0vLuOkItPL",
      "include_colab_link": true
    },
    "kernelspec": {
      "name": "python3",
      "display_name": "Python 3"
    }
  },
  "cells": [
    {
      "cell_type": "markdown",
      "metadata": {
        "id": "view-in-github",
        "colab_type": "text"
      },
      "source": [
        "<a href=\"https://colab.research.google.com/github/Sam-East/GoogleCoLab/blob/master/ML_AZ_05_5_1_(Apriori).ipynb\" target=\"_parent\"><img src=\"https://colab.research.google.com/assets/colab-badge.svg\" alt=\"Open In Colab\"/></a>"
      ]
    },
    {
      "cell_type": "markdown",
      "metadata": {
        "id": "9DtfQQwRAvCl",
        "colab_type": "text"
      },
      "source": [
        "#Lectures 5.1 ~ Folder 24 (Association Rule Learning) ~ Apriori:"
      ]
    },
    {
      "cell_type": "code",
      "metadata": {
        "id": "wC4lEGphAXyL",
        "colab_type": "code",
        "colab": {}
      },
      "source": [
        "#IMPORTING THE LIBRARIES\n",
        "%matplotlib inline\n",
        "import matplotlib.pyplot as plt\n",
        "import numpy as np\n",
        "import pandas as pd\n",
        "\n",
        "#IMPORTING THE DATA SET\n",
        "#Data file From GitHub\n",
        "url = 'https://raw.githubusercontent.com/Sam-East/DataFiles/master/Market_Basket_Optimisation.csv'\n",
        "dataset=pd.read_csv(url)\n",
        "\n",
        "#Data Pre Processing\n",
        "transactions = []\n",
        "for i in range(0, 7501):\n",
        "  transactions.append([str(dataset.values[i,j]) for j in range(0, 20)])\n"
      ],
      "execution_count": 0,
      "outputs": []
    },
    {
      "cell_type": "markdown",
      "metadata": {
        "id": "xU1bQ2kd0dvX",
        "colab_type": "text"
      },
      "source": [
        "**Importing the Apriori.py file into colab.**\n",
        "\n",
        "1)Navigate to Files (Tab on your left panel)\n",
        "\n",
        "2)Click on UPLOAD Upload your python folder or .py files\n",
        "\n",
        "3)Import the file into colab as below"
      ]
    },
    {
      "cell_type": "code",
      "metadata": {
        "id": "AE3wnGnu0Rik",
        "colab_type": "code",
        "colab": {}
      },
      "source": [
        "from apyori import apriori"
      ],
      "execution_count": 0,
      "outputs": []
    },
    {
      "cell_type": "markdown",
      "metadata": {
        "id": "MOCLbnO4vJcr",
        "colab_type": "text"
      },
      "source": [
        "**Apriori Algorithm:** It help us build association rules between things or events that can help build things like recommender system,Busniess optimization etc.\n",
        "\n",
        "The algorithm has three parts:\n",
        "\n",
        "**(1)Support:** Support(i)= (Tansactions of i)/(Total Transactions)\n",
        "\n",
        "**(2)Confidence:** Confidence(i,j)= (Transactions with i and j)/(Transactions with i) this gives a percentage of our confidience.\n",
        "\n",
        "**(3)Lift:** Lift(i,j) = Confidence(i,j)/Support(i)\n",
        "\n"
      ]
    },
    {
      "cell_type": "code",
      "metadata": {
        "id": "ez0poRxCyDCT",
        "colab_type": "code",
        "colab": {}
      },
      "source": [
        "# Training Apriori on the dataset\n",
        "from apyori import apriori\n",
        "rules = apriori(transactions, min_support = 0.003, min_confidence = 0.2, min_lift = 3, min_length = 2)"
      ],
      "execution_count": 0,
      "outputs": []
    },
    {
      "cell_type": "code",
      "metadata": {
        "id": "8qigmu_07wZ0",
        "colab_type": "code",
        "colab": {}
      },
      "source": [
        "# Visualising the results\n",
        "results = list(rules)"
      ],
      "execution_count": 0,
      "outputs": []
    }
  ]
}
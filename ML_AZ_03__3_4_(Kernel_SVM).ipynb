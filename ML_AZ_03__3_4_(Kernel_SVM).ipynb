{
  "nbformat": 4,
  "nbformat_minor": 0,
  "metadata": {
    "colab": {
      "name": "ML_AZ_03 _3.4 (Kernel SVM).ipynb",
      "provenance": [],
      "collapsed_sections": [],
      "authorship_tag": "ABX9TyP1+eIVJtNxBsS9o7urGXYh",
      "include_colab_link": true
    },
    "kernelspec": {
      "name": "python3",
      "display_name": "Python 3"
    },
    "accelerator": "GPU"
  },
  "cells": [
    {
      "cell_type": "markdown",
      "metadata": {
        "id": "view-in-github",
        "colab_type": "text"
      },
      "source": [
        "<a href=\"https://colab.research.google.com/github/Sam-East/GoogleCoLab/blob/master/ML_AZ_03__3_4_(Kernel_SVM).ipynb\" target=\"_parent\"><img src=\"https://colab.research.google.com/assets/colab-badge.svg\" alt=\"Open In Colab\"/></a>"
      ]
    },
    {
      "cell_type": "markdown",
      "metadata": {
        "id": "V2IhvLGgbXtm",
        "colab_type": "text"
      },
      "source": [
        "#Lectures 3.4 ~ Folder 15 ~ Kernel SVM:"
      ]
    },
    {
      "cell_type": "code",
      "metadata": {
        "id": "tqA16O1Qa44h",
        "colab_type": "code",
        "colab": {}
      },
      "source": [
        "url = 'https://raw.githubusercontent.com/Sam-East/DataFiles/master/Social_Network_Ads_3_4.csv'\n",
        "#Importing the Libraries\n",
        "%matplotlib inline\n",
        "import matplotlib.pyplot as plt\n",
        "import numpy as np\n",
        "import pandas as pd\n",
        "\n",
        "#Importing Dataset From GitHub\n",
        "url = 'https://raw.githubusercontent.com/Sam-East/DataFiles/master/Social_Network_Ads_LR_3_1.csv'\n",
        "dataset = pd.read_csv(url)\n",
        "\n",
        "X = dataset.iloc[:,[2,3]].values   #(independent values)\n",
        "Y = dataset.iloc[:,4].values     #(dependent values)\n",
        "\n",
        "#Splitting Trainign and testing data\n",
        "from sklearn.model_selection import train_test_split \n",
        "X_train, X_test, Y_train, Y_test = train_test_split(X, Y, test_size = 0.25, random_state = 0)\n",
        "\n",
        "#FEATURE SCALING\n",
        "from sklearn.preprocessing import StandardScaler\n",
        "sc_X = StandardScaler()\n",
        "X_train = sc_X.fit_transform(X_train)\n",
        "X_test =  sc_X.transform(X_test) "
      ],
      "execution_count": 0,
      "outputs": []
    },
    {
      "cell_type": "markdown",
      "metadata": {
        "id": "iHlljZ7cInVc",
        "colab_type": "text"
      },
      "source": [
        "**Kernal Support Vector Machine**\n",
        "\n",
        "When we have data that is not Linearly seprable. We add an extra dimension to data and then we can make our descision boundary. "
      ]
    },
    {
      "cell_type": "code",
      "metadata": {
        "id": "dHKrz_tKImZf",
        "colab_type": "code",
        "colab": {
          "base_uri": "https://localhost:8080/",
          "height": 51
        },
        "outputId": "e342287c-adba-4845-b60c-c888ec87d800"
      },
      "source": [
        "#Fitting classifier on the traning data\n",
        "from sklearn.svm import SVC\n",
        "#Gaussian Kernal\n",
        "classifier = SVC(kernel = 'rbf', random_state = 0)\n",
        "\n",
        "#polynomial Kernal\n",
        "#classifier = SVC(kernel= 'poly', degree = 5, random_state=0)\n",
        "\n",
        "classifier.fit(X_train, Y_train)\n",
        "\n",
        "\n",
        "\n",
        "#Predicting testset Result\n",
        "Y_pred = classifier.predict(X_test)\n",
        "\n",
        "#Making Confusion Matrix\n",
        "from sklearn.metrics import confusion_matrix\n",
        "cm = confusion_matrix(Y_test, Y_pred)\n",
        "print(cm)"
      ],
      "execution_count": 8,
      "outputs": [
        {
          "output_type": "stream",
          "text": [
            "[[64  4]\n",
            " [ 3 29]]\n"
          ],
          "name": "stdout"
        }
      ]
    },
    {
      "cell_type": "markdown",
      "metadata": {
        "id": "sP863z_uIsgm",
        "colab_type": "text"
      },
      "source": [
        "**Visualization of the Results**"
      ]
    },
    {
      "cell_type": "code",
      "metadata": {
        "id": "e_hWVQ0a5Gth",
        "colab_type": "code",
        "colab": {
          "base_uri": "https://localhost:8080/",
          "height": 678
        },
        "outputId": "b3dd2b3f-38dc-4f7f-a2f0-ae1775c2d6dc"
      },
      "source": [
        "# Visualising the Training set results\n",
        "from matplotlib.colors import ListedColormap\n",
        "X_set, y_set = X_train, Y_train\n",
        "X1, X2 = np.meshgrid(np.arange(start = X_set[:, 0].min() - 1, stop = X_set[:, 0].max() + 1, step = 0.01),\n",
        "                     np.arange(start = X_set[:, 1].min() - 1, stop = X_set[:, 1].max() + 1, step = 0.01))\n",
        "plt.contourf(X1, X2, classifier.predict(np.array([X1.ravel(), X2.ravel()]).T).reshape(X1.shape),\n",
        "             alpha = 0.75, cmap = ListedColormap(('red', 'green')))\n",
        "plt.xlim(X1.min(), X1.max())\n",
        "plt.ylim(X2.min(), X2.max())\n",
        "for i, j in enumerate(np.unique(y_set)):\n",
        "    plt.scatter(X_set[y_set == j, 0], X_set[y_set == j, 1],\n",
        "                c = ListedColormap(('red', 'green'))(i), label = j)\n",
        "plt.title('Classifier (Training set)')\n",
        "plt.xlabel('Age')\n",
        "plt.ylabel('Estimated Salary')\n",
        "plt.legend()\n",
        "plt.show()\n",
        "\n",
        "# Visualising the Test set results\n",
        "from matplotlib.colors import ListedColormap\n",
        "X_set, y_set = X_test, Y_test\n",
        "X1, X2 = np.meshgrid(np.arange(start = X_set[:, 0].min() - 1, stop = X_set[:, 0].max() + 1, step = 0.01),\n",
        "                     np.arange(start = X_set[:, 1].min() - 1, stop = X_set[:, 1].max() + 1, step = 0.01))\n",
        "plt.contourf(X1, X2, classifier.predict(np.array([X1.ravel(), X2.ravel()]).T).reshape(X1.shape),\n",
        "             alpha = 0.75, cmap = ListedColormap(('red', 'green')))\n",
        "plt.xlim(X1.min(), X1.max())\n",
        "plt.ylim(X2.min(), X2.max())\n",
        "for i, j in enumerate(np.unique(y_set)):\n",
        "    plt.scatter(X_set[y_set == j, 0], X_set[y_set == j, 1],\n",
        "                c = ListedColormap(('red', 'green'))(i), label = j)\n",
        "plt.title('classifier (Test set)')\n",
        "plt.xlabel('Age')\n",
        "plt.ylabel('Estimated Salary')\n",
        "plt.legend()"
      ],
      "execution_count": 9,
      "outputs": [
        {
          "output_type": "stream",
          "text": [
            "'c' argument looks like a single numeric RGB or RGBA sequence, which should be avoided as value-mapping will have precedence in case its length matches with 'x' & 'y'.  Please use a 2-D array with a single row if you really want to specify the same RGB or RGBA value for all points.\n",
            "'c' argument looks like a single numeric RGB or RGBA sequence, which should be avoided as value-mapping will have precedence in case its length matches with 'x' & 'y'.  Please use a 2-D array with a single row if you really want to specify the same RGB or RGBA value for all points.\n"
          ],
          "name": "stderr"
        },
        {
          "output_type": "display_data",
          "data": {
            "image/png": "[encoded data removed]",
            "text/plain": [
              "<Figure size 432x288 with 1 Axes>"
            ]
          },
          "metadata": {
            "tags": []
          }
        },
        {
          "output_type": "stream",
          "text": [
            "'c' argument looks like a single numeric RGB or RGBA sequence, which should be avoided as value-mapping will have precedence in case its length matches with 'x' & 'y'.  Please use a 2-D array with a single row if you really want to specify the same RGB or RGBA value for all points.\n",
            "'c' argument looks like a single numeric RGB or RGBA sequence, which should be avoided as value-mapping will have precedence in case its length matches with 'x' & 'y'.  Please use a 2-D array with a single row if you really want to specify the same RGB or RGBA value for all points.\n"
          ],
          "name": "stderr"
        },
        {
          "output_type": "execute_result",
          "data": {
            "text/plain": [
              "<matplotlib.legend.Legend at 0x7f73f4ef6b38>"
            ]
          },
          "metadata": {
            "tags": []
          },
          "execution_count": 9
        },
        {
          "output_type": "display_data",
          "data": {
            "image/png": "[encoded data removed]",
            "text/plain": [
              "<Figure size 432x288 with 1 Axes>"
            ]
          },
          "metadata": {
            "tags": []
          }
        }
      ]
    }
  ]
}
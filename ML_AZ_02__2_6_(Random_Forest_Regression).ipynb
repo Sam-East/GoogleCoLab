{
  "nbformat": 4,
  "nbformat_minor": 0,
  "metadata": {
    "colab": {
      "name": "ML_AZ_02 _2.6 (Random Forest Regression).ipynb",
      "provenance": [],
      "collapsed_sections": [],
      "authorship_tag": "ABX9TyPiEgVcXsUk4o2WmyVT59nM",
      "include_colab_link": true
    },
    "kernelspec": {
      "name": "python3",
      "display_name": "Python 3"
    }
  },
  "cells": [
    {
      "cell_type": "markdown",
      "metadata": {
        "id": "view-in-github",
        "colab_type": "text"
      },
      "source": [
        "<a href=\"https://colab.research.google.com/github/Sam-East/GoogleCoLab/blob/master/ML_AZ_02__2_6_(Random_Forest_Regression).ipynb\" target=\"_parent\"><img src=\"https://colab.research.google.com/assets/colab-badge.svg\" alt=\"Open In Colab\"/></a>"
      ]
    },
    {
      "cell_type": "markdown",
      "metadata": {
        "id": "gz6Ec-Ie3b1n",
        "colab_type": "text"
      },
      "source": [
        "#Lectures 2.6 ~ Folder 09 ~ Random Forest Regression:\n",
        "**Ensamble Learning:** Taking multiple algorithms or many istances of a same algorithm and combine them to make something even more powerful.\n",
        "\n",
        "Random Forest Regression is an example of ensamble learning. We will have a forest of trees in stead of a single tree.If some new data lands it might change one or maybe two tress but would not be able to influance the whole forest so our model will be very good.\n",
        "\n",
        "In Ensamble algorithms we are also modeling **Wisdom of the crowd** since we will have many trees we will have many coresponding value for every case (every value). At the end we will average them, So it will be quite similar to the wisdom of the crowd we will get values with very low possiblilty of error.\n",
        "\n",
        "\n",
        "**Data Pre-Processing Section:**"
      ]
    },
    {
      "cell_type": "code",
      "metadata": {
        "id": "0KYKZ89g1eJD",
        "colab_type": "code",
        "colab": {
          "base_uri": "https://localhost:8080/",
          "height": 312
        },
        "outputId": "4d220f4c-7e05-448e-cedd-80cba81b78b6"
      },
      "source": [
        "#IMPORTING THE LIBRARIES\n",
        "%matplotlib inline\n",
        "import matplotlib.pyplot as plt\n",
        "import numpy as np\n",
        "import pandas as pd\n",
        "\n",
        "#IMPORTING THE DATA SET\n",
        "#Data file From GitHub\n",
        "url = 'https://raw.githubusercontent.com/Sam-East/DataFiles/master/Position_SalariesRFR.csv' #Done\n",
        "dataset = pd.read_csv(url)\n",
        "#print(dataset, \" \\n \\n\")\n",
        "\n",
        "X = dataset.iloc[:,1:2].values #(independent values)\n",
        "Y = dataset.iloc[:,2].values #(dependent values)\n",
        "\n",
        "'''\n",
        "#SPLITTING THE DATA SET \n",
        "from sklearn.model_selection import train_test_split\n",
        "X_train, X_test, Y_train, Y_test = train_test_split(X, Y, test_size = 0.2, random_state = 0)\n",
        "\n",
        "#FEATURE SCALING\n",
        "from sklearn.preprocessing import StandardScaler\n",
        "sc_X = StandardScaler()\n",
        "#When we fit_transform the X_train the same fitting happens on the test but we need to apply transformation to it sepratly\n",
        "X_train = sc_X.fit_transform(X_train)\n",
        "X_test =  sc_X.transform(X_test) \n",
        "'''\n",
        "#Fitting Random Forest Regression Model to the dataset\n",
        "from sklearn.ensemble import RandomForestRegressor\n",
        "#n_estimators to give number of trees and rondom_state is a seed for random values\n",
        "regressor = RandomForestRegressor(n_estimators = 49, random_state = 0)\n",
        "regressor.fit(X,Y)\n",
        "\n",
        "\n",
        "#Predicting a new Value with Random Forest Regression Model\n",
        "y_Pred = regressor.predict([[6.5]])\n",
        "print(y_Pred )\n",
        "\n",
        "#Visualizing the Random Forest Regression\n",
        "X_grid = np.arange(min(X),max(X),0.01)\n",
        "X_grid = X_grid.reshape((len(X_grid),1))\n",
        "plt.scatter(X,Y,color='red')\n",
        "plt.plot(X_grid,regressor.predict(X_grid),color='blue')\n",
        "plt.title(\"Regression Model\")\n",
        "plt.xlabel('Position Level')\n",
        "plt.ylabel('Salary')\n",
        "plt.show()"
      ],
      "execution_count": 12,
      "outputs": [
        {
          "output_type": "stream",
          "text": [
            "[160408.16326531]\n"
          ],
          "name": "stdout"
        },
        {
          "output_type": "display_data",
          "data": {
            "image/png": "[encoded data removed]",
            "text/plain": [
              "<Figure size 432x288 with 1 Axes>"
            ]
          },
          "metadata": {
            "tags": []
          }
        }
      ]
    }
  ]
}
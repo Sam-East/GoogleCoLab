{
  "nbformat": 4,
  "nbformat_minor": 0,
  "metadata": {
    "colab": {
      "name": "Regression Template.ipynb",
      "provenance": [],
      "collapsed_sections": [],
      "authorship_tag": "ABX9TyOW1QxOX3nt3XGIWop9xhee",
      "include_colab_link": true
    },
    "kernelspec": {
      "name": "python3",
      "display_name": "Python 3"
    }
  },
  "cells": [
    {
      "cell_type": "markdown",
      "metadata": {
        "id": "view-in-github",
        "colab_type": "text"
      },
      "source": [
        "<a href=\"https://colab.research.google.com/github/Sam-East/GoogleCoLab/blob/master/Regression_Template.ipynb\" target=\"_parent\"><img src=\"https://colab.research.google.com/assets/colab-badge.svg\" alt=\"Open In Colab\"/></a>"
      ]
    },
    {
      "cell_type": "code",
      "metadata": {
        "id": "NAnoequMnPai",
        "colab_type": "code",
        "colab": {}
      },
      "source": [
        "#IMPORTING THE LIBRARIES\n",
        "%matplotlib inline\n",
        "import matplotlib.pyplot as plt\n",
        "import numpy as np\n",
        "import pandas as pd\n",
        "\n",
        "#IMPORTING THE DATA SET\n",
        "#Data file From GitHub\n",
        "url = 'https://raw.githubusercontent.com/Sam-East/DataFiles/master/Position_SalariesPR.csv' #Done\n",
        "dataset = pd.read_csv(url)\n",
        "#print(dataset, \" \\n \\n\")\n",
        "\n",
        "X = dataset.iloc[:,1:2].values #(independent values)\n",
        "Y = dataset.iloc[:,2].values #(dependent values)\n",
        "\n",
        "'''\n",
        "#SPLITTING THE DATA SET \n",
        "from sklearn.model_selection import train_test_split\n",
        "X_train, X_test, Y_train, Y_test = train_test_split(X, Y, test_size = 0.2, random_state = 0)\n",
        "\n",
        "#FEATURE SCALING\n",
        "from sklearn.preprocessing import StandardScaler\n",
        "sc_X = StandardScaler()\n",
        "#When we fit_transform the X_train the same fitting happens on the test but we need to apply transformation to it sepratly\n",
        "X_train = sc_X.fit_transform(X_train)\n",
        "X_test =  sc_X.transform(X_test) \n",
        "'''\n",
        "\n",
        "#Fitting Regression Model to the dataset\n",
        "\n",
        "\n",
        "#Predicting a new Value with Regression Model\n",
        "y_Pred = regressor.predict([[6.5]])\n",
        "\n",
        "#Visualizing the Polynomial Regression\n",
        "plt.scatter(X,Y,color='red')\n",
        "plt.plot(X,lin_Reg_2.predict(poly_Reg.fit_transform(X)),color='blue')\n",
        "plt.title(\"Linear Regression Model\")\n",
        "plt.xlabel('Position Level')\n",
        "plt.ylabel('Salary')\n",
        "plt.show()"
      ],
      "execution_count": 0,
      "outputs": []
    }
  ]
}

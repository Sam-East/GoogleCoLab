{
  "nbformat": 4,
  "nbformat_minor": 0,
  "metadata": {
    "colab": {
      "name": "ML_AZ_02 _2.2 (Multiple Linear Regression).ipynb",
      "provenance": [],
      "collapsed_sections": [],
      "authorship_tag": "ABX9TyOvns07YjBowAszM3Q7lYHq",
      "include_colab_link": true
    },
    "kernelspec": {
      "name": "python3",
      "display_name": "Python 3"
    }
  },
  "cells": [
    {
      "cell_type": "markdown",
      "metadata": {
        "id": "view-in-github",
        "colab_type": "text"
      },
      "source": [
        "<a href=\"https://colab.research.google.com/github/Sam-East/GoogleCoLab/blob/master/ML_AZ_02__2_2_(Multiple_Linear_Regression).ipynb\" target=\"_parent\"><img src=\"https://colab.research.google.com/assets/colab-badge.svg\" alt=\"Open In Colab\"/></a>"
      ]
    },
    {
      "cell_type": "markdown",
      "metadata": {
        "id": "ZTKqPteFhyz0",
        "colab_type": "text"
      },
      "source": [
        "#Lectures 2.2 ~ Folder 05 ~ Multiple Linear Regression:\n",
        "\n",
        "**Data Pre-Processing Section:**"
      ]
    },
    {
      "cell_type": "code",
      "metadata": {
        "id": "cMUCqyoKh5Ga",
        "colab_type": "code",
        "colab": {}
      },
      "source": [
        "#IMPORTING THE LIBRARIES\n",
        "%matplotlib inline\n",
        "import matplotlib.pyplot as plt\n",
        "import numpy as np\n",
        "import pandas as pd\n",
        "\n",
        "#IMPORTING THE DATA SET\n",
        "#Data file From GitHub\n",
        "url = 'https://raw.githubusercontent.com/Sam-East/DataFiles/master/50_Startups.csv' #Done\n",
        "dataset=pd.read_csv(url)\n",
        "\n",
        "#print(dataset, \" \\n \\n\")\n",
        "\n",
        "'''\n",
        "#Data file from computer upload\n",
        "from google.colab import files\n",
        "uploaded = files.upload()\n",
        "import io\n",
        "dataset = pd.read_csv(io.BytesIO(uploaded['Data.csv']))\n",
        "'''\n",
        "\n",
        "X = dataset.iloc[:,:-1].values #(independent values)\n",
        "Y = dataset.iloc[:,4].values #(dependent values)\n",
        "#print(X, \" \\n \\n\")\n",
        "#print(Y, \" \\n \\n\")\n",
        "\n",
        "\n",
        "#Encoding Categorical Data with LabelEncoder and OneHotEncoder\n",
        "from sklearn.preprocessing import LabelEncoder, OneHotEncoder\n",
        "from sklearn.compose import ColumnTransformer\n",
        "\n",
        "labelEncoder_X = LabelEncoder()\n",
        "#1st Column of Categorical Data of the DataSet X\n",
        "X[:,3] = labelEncoder_X.fit_transform(X[:,3]) #Encoding of data onto Numbers\n",
        "\n",
        "\n",
        "oneHotEncoder = ColumnTransformer([('one_hot_encoder',OneHotEncoder(categories = 'auto'),[3])],remainder='passthrough') #Encoding Dummy Variable\n",
        "X = oneHotEncoder.fit_transform(X)\n",
        "\n",
        "#SPLITTING THE DATA SET \n",
        "from sklearn.model_selection import train_test_split\n",
        "X_train, X_test, Y_train, Y_test = train_test_split(X, Y, test_size = 0.2, random_state = 0)\n",
        "\n",
        "\n",
        "#FEATURE SCALING\n",
        "#from sklearn.preprocessing import StandardScaler\n",
        "#sc_X = StandardScaler()\n",
        "#When we fit_transform the X_train the same fitting happens on the test but we need to apply transformation to it sepratly\n",
        "#X_train = sc_X.fit_transform(X_train)\n",
        "#X_test =  sc_X.transform(X_test) \n"
      ],
      "execution_count": 0,
      "outputs": []
    },
    {
      "cell_type": "markdown",
      "metadata": {
        "id": "zdVXKYFHJ4os",
        "colab_type": "text"
      },
      "source": [
        "**Multiple Linear Regression**\n",
        "\n",
        "**y = b0 + (b1*x1)+(b2*x2)+......+(bn*xn)**\n",
        "\n",
        "- **x1,x2....,xn** are the independent variable.\n",
        "\n",
        "- **y** is the dependent variable.\n",
        "\n",
        "- **b0** is a constant, where line touches the y-axis.\n",
        "\n",
        "- **b1,b2,.....,bn** are coefficients of the slops of lines.  \n",
        "\n",
        "\n",
        "**Fitting the Multiple Linear Regression**"
      ]
    },
    {
      "cell_type": "code",
      "metadata": {
        "id": "O8S_a_uRKDmx",
        "colab_type": "code",
        "outputId": "d089efb7-339d-4623-be53-162d71a3d1b5",
        "colab": {
          "base_uri": "https://localhost:8080/",
          "height": 282
        }
      },
      "source": [
        "from sklearn.linear_model import LinearRegression\n",
        "\n",
        "regressor = LinearRegression()\n",
        "\n",
        "regressor.fit(X_train,Y_train)\n",
        "\n",
        "#Values for predicting (Testing values)\n",
        "y_predict = regressor.predict(X_test)\n",
        "\n",
        "plt.plot(Y_test,color = 'blue')\n",
        "plt.plot(y_predict,color = 'red')\n",
        "#plt.show()\n",
        "\n",
        "#print(Y_test, \" \\n \\n\")\n",
        "#print (y_predict)"
      ],
      "execution_count": 0,
      "outputs": [
        {
          "output_type": "execute_result",
          "data": {
            "text/plain": [
              "[<matplotlib.lines.Line2D at 0x7f539c562cf8>]"
            ]
          },
          "metadata": {
            "tags": []
          },
          "execution_count": 100
        },
        {
          "output_type": "display_data",
          "data": {
            "image/png": "[encoded data removed]",
            "text/plain": [
              "<Figure size 432x288 with 1 Axes>"
            ]
          },
          "metadata": {
            "tags": []
          }
        }
      ]
    },
    {
      "cell_type": "markdown",
      "metadata": {
        "id": "r6RS9T4QWlRv",
        "colab_type": "text"
      },
      "source": [
        "**Backwards Elimination :** It involves starting with all candidate variables, testing the deletion of each variable using a chosen model fit criterion, deleting the variable (if any) whose loss gives the most statistically insignificant deterioration of the model fit, and repeating this process until no further variables can be deleted without a statistically significant loss of fit.\n",
        "\n",
        "**Prepration for Backwards Elimination :** If we see in our equation for multiple linear regression all coefficients {b1 to bn} have a corresponding independent variable {x1 to xn} which is not the case for b0. So, to resolve this we will add a **x0 = 1**.\n",
        "\n",
        "**Note :** We do the above change by adding a column of 1's to our dataset. This is only needed for our **statsmodels** library. Other libraries like **LinearRegression** take care of this on their own.\n",
        "\n",
        "**So our equation will become from y = b0 + (b1*x1)+(b2*x2)+......+(bn*xn)**\n",
        "\n",
        "\n",
        "**to y = (b0*x0) + (b1*x1)+(b2*x2)+......+(bn*xn) where x0 =1.**\n",
        "\n",
        "\n",
        "x1,x2....,xn are the independent variable.\n",
        "\n",
        "y is the dependent variable.\n",
        "\n",
        "b0 is a constant, where line touches the y-axis.\n",
        "\n",
        "b1,b2,.....,bn are coefficients of the slops of lines.\n"
      ]
    },
    {
      "cell_type": "code",
      "metadata": {
        "id": "U0I9M1o9azeC",
        "colab_type": "code",
        "colab": {}
      },
      "source": [
        "#Applying The Backwards Eimination\n",
        "\n",
        "import statsmodels.api as sm #To calculate p-values and check stastical significances of variables for elimination\n",
        "\n",
        "#Step 1: Preparing dataset by adding 1's column\n",
        "X = X[:,1:] #Taking care of Dummy Variable trap\n",
        "X = np.append(arr=np.ones((50,1)).astype(int), values=X, axis=1)\n",
        "\n",
        "#Step 2: Setting optimal dataset as X at begining on which backwards elimination will be done \n",
        "X_opt = np.array(X[:, [0,1,2,3,4,5]], dtype=float) #Our optimal set of features\n",
        "#Step 3: Fitting the model with all possiable predictors\n",
        "regressor_OLS = sm.OLS(endog=Y, exog=X_opt).fit()\n",
        "#Step 4: Check for value with p value above our decided 0.5% and remove them\n",
        "#regressor_OLS.summary()\n",
        "\n",
        "#NOW WE REPEAT THE ALGORITHM UNTILL ALL THE STASTICALLY SIGNFICANT VARIABLES ARE LEFT \n",
        "#WE CHECK TO SEE THE P-VALUES THAT ARE ABOVE 0.5% AND THE REMOVE THEM\n",
        "\n",
        "#This time we removed 2\n",
        "X_opt = np.array(X[:, [0,1,3,4,5]], dtype=float)\n",
        "regressor_OLS = sm.OLS(endog=Y, exog=X_opt).fit()\n",
        "#regressor_OLS.summary()\n",
        "\n",
        "#This time we removed 1\n",
        "X_opt = np.array(X[:, [0,3,4,5]], dtype=float) \n",
        "regressor_OLS = sm.OLS(endog=Y, exog=X_opt).fit()\n",
        "#regressor_OLS.summary()\n",
        "\n",
        "#This time we removed 4\n",
        "X_opt = np.array(X[:, [0,3,5]], dtype=float) \n",
        "regressor_OLS = sm.OLS(endog=Y, exog=X_opt).fit()\n",
        "#regressor_OLS.summary()\n",
        "\n",
        "#This time we removed 5\n",
        "X_opt = np.array(X[:, [0,3]], dtype=float) \n",
        "regressor_OLS = sm.OLS(endog=Y, exog=X_opt).fit()\n",
        "regressor_OLS.summary()\n",
        "\n",
        "#Now we have compleated the process of backwards elimination\n"
      ],
      "execution_count": 0,
      "outputs": []
    }
  ]
}
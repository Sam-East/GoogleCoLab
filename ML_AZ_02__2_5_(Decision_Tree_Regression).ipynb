{
  "nbformat": 4,
  "nbformat_minor": 0,
  "metadata": {
    "colab": {
      "name": "ML_AZ_02 _2.5 (Decision Tree Regression).ipynb",
      "provenance": [],
      "collapsed_sections": [],
      "authorship_tag": "ABX9TyM89kbFeE3tMWtqQVITLuVC",
      "include_colab_link": true
    },
    "kernelspec": {
      "name": "python3",
      "display_name": "Python 3"
    }
  },
  "cells": [
    {
      "cell_type": "markdown",
      "metadata": {
        "id": "view-in-github",
        "colab_type": "text"
      },
      "source": [
        "<a href=\"https://colab.research.google.com/github/Sam-East/GoogleCoLab/blob/master/ML_AZ_02__2_5_(Decision_Tree_Regression).ipynb\" target=\"_parent\"><img src=\"https://colab.research.google.com/assets/colab-badge.svg\" alt=\"Open In Colab\"/></a>"
      ]
    },
    {
      "cell_type": "markdown",
      "metadata": {
        "id": "dohgPjJA3XLw",
        "colab_type": "text"
      },
      "source": [
        "#Lectures 2.5 ~ Folder 08 ~ Decision Tree Regression:\n",
        "\n",
        "**Data Pre-Processing Section:**"
      ]
    },
    {
      "cell_type": "code",
      "metadata": {
        "id": "TVVoVQ7d1fN5",
        "colab_type": "code",
        "colab": {
          "base_uri": "https://localhost:8080/",
          "height": 312
        },
        "outputId": "42a5a8e5-b0d3-4d51-db58-c6c035e3e5dc"
      },
      "source": [
        "#IMPORTING THE LIBRARIES\n",
        "%matplotlib inline\n",
        "import matplotlib.pyplot as plt\n",
        "import numpy as np\n",
        "import pandas as pd\n",
        "\n",
        "#IMPORTING THE DATA SET\n",
        "#Data file From GitHub\n",
        "url = 'https://raw.githubusercontent.com/Sam-East/DataFiles/master/Position_SalariesDR.csv' #Done\n",
        "dataset = pd.read_csv(url)\n",
        "#print(dataset, \" \\n \\n\")\n",
        "\n",
        "X = dataset.iloc[:,1:2].values #(independent values)\n",
        "Y = dataset.iloc[:,2].values #(dependent values)\n",
        "\n",
        "'''\n",
        "#SPLITTING THE DATA SET \n",
        "from sklearn.model_selection import train_test_split\n",
        "X_train, X_test, Y_train, Y_test = train_test_split(X, Y, test_size = 0.2, random_state = 0)\n",
        "\n",
        "#FEATURE SCALING\n",
        "from sklearn.preprocessing import StandardScaler\n",
        "sc_X = StandardScaler()\n",
        "#When we fit_transform the X_train the same fitting happens on the test but we need to apply transformation to it sepratly\n",
        "X_train = sc_X.fit_transform(X_train)\n",
        "X_test =  sc_X.transform(X_test) \n",
        "'''\n",
        "\n",
        "#Fitting Regression Model to the dataset\n",
        "from sklearn.tree import DecisionTreeRegressor\n",
        "regressor = DecisionTreeRegressor(random_state = 0)\n",
        "regressor.fit(X,Y)\n",
        "\n",
        "#Predicting a new Value with Regression Model\n",
        "y_Pred = regressor.predict([[6.5]])\n",
        "print(y_Pred )\n",
        "\n",
        "#Visualizing the Polynomial Regression\n",
        "X_grid = np.arange(min(X),max(X),0.01)\n",
        "X_grid = X_grid.reshape((len(X_grid),1))\n",
        "plt.scatter(X,Y,color='red')\n",
        "plt.plot(X_grid,regressor.predict(X_grid),color='blue')\n",
        "plt.title(\"Regression Model\")\n",
        "plt.xlabel('Position Level')\n",
        "plt.ylabel('Salary')\n",
        "plt.show()"
      ],
      "execution_count": 13,
      "outputs": [
        {
          "output_type": "stream",
          "text": [
            "[150000.]\n"
          ],
          "name": "stdout"
        },
        {
          "output_type": "display_data",
          "data": {
            "image/png": "[encoded data removed]",
            "text/plain": [
              "<Figure size 432x288 with 1 Axes>"
            ]
          },
          "metadata": {
            "tags": []
          }
        }
      ]
    }
  ]
}
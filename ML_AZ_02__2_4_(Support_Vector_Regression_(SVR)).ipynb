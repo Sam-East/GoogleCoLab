{
  "nbformat": 4,
  "nbformat_minor": 0,
  "metadata": {
    "colab": {
      "name": "ML_AZ_02 _2.4 (Support Vector Regression (SVR)).ipynb",
      "provenance": [],
      "collapsed_sections": [],
      "authorship_tag": "ABX9TyOmZkbDo9tKPi7qnMDZgQ1K",
      "include_colab_link": true
    },
    "kernelspec": {
      "name": "python3",
      "display_name": "Python 3"
    }
  },
  "cells": [
    {
      "cell_type": "markdown",
      "metadata": {
        "id": "view-in-github",
        "colab_type": "text"
      },
      "source": [
        "<a href=\"https://colab.research.google.com/github/Sam-East/GoogleCoLab/blob/master/ML_AZ_02__2_4_(Support_Vector_Regression_(SVR)).ipynb\" target=\"_parent\"><img src=\"https://colab.research.google.com/assets/colab-badge.svg\" alt=\"Open In Colab\"/></a>"
      ]
    },
    {
      "cell_type": "markdown",
      "metadata": {
        "id": "Pu-5YIDn3Pq1",
        "colab_type": "text"
      },
      "source": [
        "#Lectures 2.4 ~ Folder 07 ~ Support Vector Regression (SVR):\n",
        "\n",
        "**Data Pre-Processing Section:**"
      ]
    },
    {
      "cell_type": "code",
      "metadata": {
        "id": "Ov45N5B81fxr",
        "colab_type": "code",
        "colab": {}
      },
      "source": [
        "#IMPORTING THE LIBRARIES\n",
        "%matplotlib inline\n",
        "import matplotlib.pyplot as plt\n",
        "import numpy as np\n",
        "import pandas as pd\n",
        "\n",
        "#IMPORTING THE DATA SET\n",
        "#Data file From GitHub\n",
        "url = 'https://raw.githubusercontent.com/Sam-East/DataFiles/master/Position_SalariesSVR.csv' #Done\n",
        "dataset = pd.read_csv(url)\n",
        "#print(dataset, \" \\n \\n\")\n",
        "\n",
        "X = dataset.iloc[:,1:2].values #(independent values)\n",
        "Y = dataset.iloc[:,2].values #(dependent values)\n",
        "x=X\n",
        "y = Y\n",
        "'''\n",
        "#SPLITTING THE DATA SET \n",
        "from sklearn.model_selection import train_test_split\n",
        "X_train, X_test, Y_train, Y_test = train_test_split(X, Y, test_size = 0.2, random_state = 0)\n",
        "'''\n",
        "#FEATURE SCALING\n",
        "from sklearn.preprocessing import StandardScaler\n",
        "sc_X = StandardScaler()\n",
        "sc_Y = StandardScaler()\n",
        "X = sc_X.fit_transform(X)\n",
        "Y = sc_Y.fit_transform(Y.reshape(-1,1))"
      ],
      "execution_count": 0,
      "outputs": []
    },
    {
      "cell_type": "markdown",
      "metadata": {
        "id": "M9l7Sn6KYvNu",
        "colab_type": "text"
      },
      "source": [
        "**Support Vector Regression :**It is a type of regression that supports both linear and non-linear regressions.\n"
      ]
    },
    {
      "cell_type": "code",
      "metadata": {
        "id": "gYrd1lUva-Ke",
        "colab_type": "code",
        "colab": {
          "base_uri": "https://localhost:8080/",
          "height": 366
        },
        "outputId": "07c67cf8-adae-43d6-afb8-9cb80c520d46"
      },
      "source": [
        "#Fitting SVR Regression Model to the dataset\n",
        "from sklearn.svm import SVR\n",
        "regressor = SVR(kernel='rbf')\n",
        "regressor.fit(X,Y)\n",
        "\n",
        "#Predicting a new Value with SVR Regression Model\n",
        "y_Pred = sc_Y.inverse_transform(regressor.predict(sc_X.transform(np.array([[6.5]]))))\n",
        "print(y_Pred)\n",
        "#Visualizing the SVR Regression Model\n",
        "plt.scatter(X,Y,color='red')\n",
        "plt.plot(X,regressor.predict(X),color='blue')\n",
        "plt.title(\"Linear Regression Model\")\n",
        "plt.xlabel('Position Level')\n",
        "plt.ylabel('Salary')\n",
        "plt.show()"
      ],
      "execution_count": 146,
      "outputs": [
        {
          "output_type": "stream",
          "text": [
            "[170370.0204065]\n"
          ],
          "name": "stdout"
        },
        {
          "output_type": "stream",
          "text": [
            "/usr/local/lib/python3.6/dist-packages/sklearn/utils/validation.py:760: DataConversionWarning: A column-vector y was passed when a 1d array was expected. Please change the shape of y to (n_samples, ), for example using ravel().\n",
            "  y = column_or_1d(y, warn=True)\n"
          ],
          "name": "stderr"
        },
        {
          "output_type": "display_data",
          "data": {
            "image/png": "[encoded data removed]",
            "text/plain": [
              "<Figure size 432x288 with 1 Axes>"
            ]
          },
          "metadata": {
            "tags": []
          }
        }
      ]
    }
  ]
}